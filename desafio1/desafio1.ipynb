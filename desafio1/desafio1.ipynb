{
  "cells": [
    {
      "cell_type": "markdown",
      "metadata": {
        "colab_type": "text",
        "id": "view-in-github"
      },
      "source": [
        "<a href=\"https://colab.research.google.com/github/alyssonrafael/Algoritimos_e_complexidade/blob/main/desafio001/desafio1.ipynb\" target=\"_parent\"><img src=\"https://colab.research.google.com/assets/colab-badge.svg\" alt=\"Open In Colab\"/></a>"
      ]
    },
    {
      "cell_type": "markdown",
      "metadata": {
        "id": "sNNWHOKbtLRp"
      },
      "source": [
        "Exercicio Prático 01 - Aula 01 | 02 - RASPAGEM"
      ]
    },
    {
      "cell_type": "code",
      "execution_count": 1,
      "metadata": {
        "colab": {
          "base_uri": "https://localhost:8080/"
        },
        "id": "7sBj6t4YtZhv",
        "outputId": "e81206f7-5f1d-40d7-f327-d8bd7d08c059"
      },
      "outputs": [
        {
          "name": "stdout",
          "output_type": "stream",
          "text": [
            "✅ Dados salvos com sucesso em 'livros.csv'\n"
          ]
        }
      ],
      "source": [
        "import requests\n",
        "import csv\n",
        "from bs4 import BeautifulSoup\n",
        "\n",
        "# --- Constantes ---\n",
        "# Melhora a organização: é mais fácil alterar a URL ou o nome do arquivo aqui\n",
        "URL = 'http://books.toscrape.com/catalogue/page-1.html'\n",
        "NOME_ARQUIVO = 'livros.csv'\n",
        "\n",
        "try:\n",
        "    # Fazer a requisição dentro de um bloco try/except torna o script mais robusto\n",
        "    response = requests.get(URL, timeout=10) # Adicionado timeout para evitar que o script trave\n",
        "    response.raise_for_status() # Verifica se a requisição foi bem-sucedida (ex: não deu erro 404)\n",
        "\n",
        "    soup = BeautifulSoup(response.text, 'html.parser')\n",
        "    books = soup.find_all('article', class_='product_pod')\n",
        "\n",
        "    # Criando e escrevendo no CSV\n",
        "    with open(NOME_ARQUIVO, mode='w', newline='', encoding='utf-8') as file:\n",
        "        writer = csv.writer(file)\n",
        "        # Cabeçalho um pouco mais descritivo\n",
        "        writer.writerow(['Título', 'Preço (£)', 'Disponibilidade'])\n",
        "\n",
        "        for book in books:\n",
        "            # Não há necessidade de mudar a extração, já é bem direta\n",
        "            title = book.h3.a['title']\n",
        "            \n",
        "            # Melhora sutil: remove o símbolo da moeda para um dado um pouco mais limpo\n",
        "            price = book.find('p', class_='price_color').text.replace('£', '')\n",
        "            \n",
        "            availability = book.find('p', class_='instock availability').text.strip()\n",
        "            \n",
        "            writer.writerow([title, price, availability])\n",
        "\n",
        "    # Uso de f-string para uma formatação de texto mais moderna e legível\n",
        "    print(f\"✅ Dados salvos com sucesso em '{NOME_ARQUIVO}'\")\n",
        "\n",
        "except requests.exceptions.RequestException as e:\n",
        "    print(f\"❌ Erro ao tentar acessar a URL: {e}\")\n",
        "except IOError as e:\n",
        "    print(f\"❌ Erro ao tentar escrever no arquivo '{NOME_ARQUIVO}': {e}\")\n",
        "except Exception as e:\n",
        "    print(f\"🐞 Ocorreu um erro inesperado: {e}\")"
      ]
    }
  ],
  "metadata": {
    "colab": {
      "authorship_tag": "ABX9TyPVra/sPyS7QJ+16S0L0jN1",
      "include_colab_link": true,
      "provenance": []
    },
    "kernelspec": {
      "display_name": "Python 3",
      "name": "python3"
    },
    "language_info": {
      "codemirror_mode": {
        "name": "ipython",
        "version": 3
      },
      "file_extension": ".py",
      "mimetype": "text/x-python",
      "name": "python",
      "nbconvert_exporter": "python",
      "pygments_lexer": "ipython3",
      "version": "3.12.2"
    }
  },
  "nbformat": 4,
  "nbformat_minor": 0
}
