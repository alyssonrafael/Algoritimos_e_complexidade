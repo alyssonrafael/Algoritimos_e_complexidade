{
  "nbformat": 4,
  "nbformat_minor": 0,
  "metadata": {
    "colab": {
      "provenance": [],
      "authorship_tag": "ABX9TyOYlA5M7AdblM4lxJcN0UGT",
      "include_colab_link": true
    },
    "kernelspec": {
      "name": "python3",
      "display_name": "Python 3"
    },
    "language_info": {
      "name": "python"
    }
  },
  "cells": [
    {
      "cell_type": "markdown",
      "metadata": {
        "id": "view-in-github",
        "colab_type": "text"
      },
      "source": [
        "<a href=\"https://colab.research.google.com/github/alyssonrafael/Algoritimos_e_complexidade/blob/main/desafio2.ipynb\" target=\"_parent\"><img src=\"https://colab.research.google.com/assets/colab-badge.svg\" alt=\"Open In Colab\"/></a>"
      ]
    },
    {
      "cell_type": "markdown",
      "source": [
        "Exercicio Prático 02 - Aula 01 | 02 - WebScraping"
      ],
      "metadata": {
        "id": "B-uaQwaC0Hzv"
      }
    },
    {
      "cell_type": "code",
      "execution_count": 2,
      "metadata": {
        "colab": {
          "base_uri": "https://localhost:8080/"
        },
        "id": "ZBJGYBKAznCa",
        "outputId": "ff112948-d147-4400-9133-a6c47833e714"
      },
      "outputs": [
        {
          "output_type": "stream",
          "name": "stdout",
          "text": [
            "Buscando notícias em: https://g1.globo.com/\n",
            "\n",
            "--- 10 Principais Manchetes do G1 ---\n",
            "1. Questionada sobre Bolsonaro, Casa Branca diz que Trump não teme usar 'meios militares'\n",
            "   -> Link: https://g1.globo.com/mundo/noticia/2025/09/09/trump-nao-tem-medo-de-usar-meios-militares-para-proteger-liberdade-de-expressao-diz-casa-branca-sobre-eventual-condenacao-de-bolsonaro.ghtml\n",
            "\n",
            "2. Mega-Sena pode pagar R$ 46 milhões; veja números\n",
            "   -> Link: https://g1.globo.com/loterias/mega-sena/noticia/2025/09/09/mega-sena-concurso-2912-resultado.ghtml\n",
            "\n",
            "3. Dino: 'Alguém acredita que o Mickey vai mudar julgamento?'\n",
            "   -> Link: https://g1.globo.com/politica/noticia/2025/09/09/sera-que-alguem-acredita-que-um-tuite-de-presidente-estrangeiro-vai-mudar-o-julgamento-questiona-dino.ghtml\n",
            "\n",
            "4. Placar do julgamento: como votou cada ministro até agora\n",
            "   -> Link: https://g1.globo.com/politica/noticia/2025/09/09/trama-golpista-placar-do-julgamento-infografico.ghtml\n",
            "\n",
            "5. VÍDEOS: reveja o momento em que Moraes vota pela condenação\n",
            "   -> Link: https://g1.globo.com/politica/playlist/videos-terceiro-dia-de-julgamento-trama-golpista.ghtml\n",
            "\n",
            "6. Suspeito de incendiar banheiros químicos perto do STF é preso\n",
            "   -> Link: https://g1.globo.com/df/distrito-federal/noticia/2025/09/09/pm-detem-suspeito-de-incendiar-banheiros-quimicos-na-esplanada-dos-ministerios-a-menos-de-2-km-do-stf.ghtml\n",
            "\n",
            "✅ Arquivo 'manchetes_g1.csv' salvo com sucesso!\n"
          ]
        }
      ],
      "source": [
        "import requests\n",
        "from bs4 import BeautifulSoup\n",
        "import csv\n",
        "\n",
        "# Passo 1: Acessar a página inicial do G1\n",
        "url = \"https://g1.globo.com/\"\n",
        "print(f\"Buscando notícias em: {url}\")\n",
        "\n",
        "try:\n",
        "    resposta = requests.get(url, timeout=10)\n",
        "    resposta.raise_for_status()  # Verifica se a requisição foi bem-sucedida\n",
        "\n",
        "    # Passo 2: Criar o objeto BeautifulSoup\n",
        "    sopa = BeautifulSoup(resposta.text, \"html.parser\")\n",
        "\n",
        "    # Passo 3: Extrair os títulos e links das manchetes principais\n",
        "    manchetes_html = sopa.find_all(\"a\", class_=\"feed-post-link\")\n",
        "\n",
        "    manchetes_coletadas = []\n",
        "    # Limita a 10 manchetes e coleta os dados\n",
        "    for manchete in manchetes_html[:10]:\n",
        "        titulo = manchete.text.strip()\n",
        "        link = manchete.get(\"href\")\n",
        "        if titulo and link:  # Garante que ambos os campos não estão vazios\n",
        "            manchetes_coletadas.append([titulo, link])\n",
        "\n",
        "    # --- NOVO: Passo para exibir os dados no terminal ---\n",
        "    if manchetes_coletadas:\n",
        "        print(\"\\n--- 10 Principais Manchetes do G1 ---\")\n",
        "        # Itera sobre a lista para exibir cada item formatado\n",
        "        for indice, (titulo, link) in enumerate(manchetes_coletadas, 1):\n",
        "            print(f\"{indice}. {titulo}\")\n",
        "            print(f\"   -> Link: {link}\\n\")\n",
        "    else:\n",
        "        print(\"Nenhuma manchete encontrada com o seletor especificado.\")\n",
        "\n",
        "    # Passo 4: Criar e salvar o arquivo CSV\n",
        "    with open(\"manchetes_g1.csv\", mode=\"w\", newline=\"\", encoding=\"utf-8\") as arquivo_csv:\n",
        "        escritor = csv.writer(arquivo_csv)\n",
        "        escritor.writerow([\"Título\", \"Link\"])  # Cabeçalho\n",
        "        # Escreve todas as linhas da lista de uma vez\n",
        "        escritor.writerows(manchetes_coletadas)\n",
        "\n",
        "    print(\"✅ Arquivo 'manchetes_g1.csv' salvo com sucesso!\")\n",
        "\n",
        "except requests.exceptions.RequestException as e:\n",
        "    print(f\"❌ Erro de conexão ao acessar o G1: {e}\")\n",
        "except Exception as e:\n",
        "    print(f\"🐞 Ocorreu um erro inesperado: {e}\")"
      ]
    }
  ]
}