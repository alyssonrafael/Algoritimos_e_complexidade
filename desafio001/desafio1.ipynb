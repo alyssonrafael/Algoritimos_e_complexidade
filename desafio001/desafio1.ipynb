{
  "nbformat": 4,
  "nbformat_minor": 0,
  "metadata": {
    "colab": {
      "provenance": [],
      "authorship_tag": "ABX9TyPVra/sPyS7QJ+16S0L0jN1",
      "include_colab_link": true
    },
    "kernelspec": {
      "name": "python3",
      "display_name": "Python 3"
    },
    "language_info": {
      "name": "python"
    }
  },
  "cells": [
    {
      "cell_type": "markdown",
      "metadata": {
        "id": "view-in-github",
        "colab_type": "text"
      },
      "source": [
        "<a href=\"https://colab.research.google.com/github/alyssonrafael/Algoritimos_e_complexidade/blob/main/desafio001/desafio1.ipynb\" target=\"_parent\"><img src=\"https://colab.research.google.com/assets/colab-badge.svg\" alt=\"Open In Colab\"/></a>"
      ]
    },
    {
      "cell_type": "markdown",
      "source": [
        "Exercicio Prático 01 - Aula 01 | 02 - RASPAGEM"
      ],
      "metadata": {
        "id": "sNNWHOKbtLRp"
      }
    },
    {
      "cell_type": "code",
      "source": [
        "import requests\n",
        "from bs4 import BeautifulSoup\n",
        "\n",
        "# URL da primeira página\n",
        "url = 'http://books.toscrape.com/catalogue/page-1.html'\n",
        "\n",
        "# Fazendo a requisição\n",
        "response = requests.get(url)\n",
        "soup = BeautifulSoup(response.text, 'html.parser')\n",
        "\n",
        "# Encontrando todos os livros\n",
        "books = soup.find_all('article', class_='product_pod')\n",
        "\n",
        "# Criando e escrevendo no CSV\n",
        "with open('livros.csv', mode='w', newline='', encoding='utf-8') as file:\n",
        "    writer = csv.writer(file)\n",
        "    writer.writerow(['Título', 'Preço', 'Disponibilidade'])\n",
        "\n",
        "    for book in books:\n",
        "        title = book.h3.a['title']\n",
        "        price = book.find('p', class_='price_color').text\n",
        "        availability = book.find('p', class_='instock availability').text.strip()\n",
        "        writer.writerow([title, price, availability])\n",
        "\n",
        "print(\"✅ Dados salvos em 'livros.csv'\")\n"
      ],
      "metadata": {
        "colab": {
          "base_uri": "https://localhost:8080/"
        },
        "id": "7sBj6t4YtZhv",
        "outputId": "e81206f7-5f1d-40d7-f327-d8bd7d08c059"
      },
      "execution_count": 1,
      "outputs": [
        {
          "output_type": "stream",
          "name": "stdout",
          "text": [
            "✅ Dados salvos em 'livros.csv'\n"
          ]
        }
      ]
    }
  ]
}